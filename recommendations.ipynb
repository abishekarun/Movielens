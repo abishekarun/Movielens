{
 "cells": [
  {
   "cell_type": "code",
   "execution_count": 1,
   "metadata": {},
   "outputs": [],
   "source": [
    "from math import sqrt\n",
    "import numpy as np\n",
    "import os.path\n",
    "import pandas as pd"
   ]
  },
  {
   "cell_type": "code",
   "execution_count": 2,
   "metadata": {},
   "outputs": [],
   "source": [
    "# Returns a distance-based similarity score for p1 and p2\n",
    "def sim_distance(prefs,p1,p2):\n",
    "    # Get the list of shared_items\n",
    "    si={}\n",
    "    for item in prefs[p1]:\n",
    "        if item in prefs[p2]:\n",
    "            si[item]=1\n",
    "                # if they have no ratings in common, return 0\n",
    "        if len(si)==0: return 0\n",
    "    # Add up the squares of all the differences\n",
    "    sum_of_squares=sum([pow(prefs[p1][item]-prefs[p2][item],2)\n",
    "    for item in prefs[p1] if item in prefs[p2]])\n",
    "    return 1/(1+sum_of_squares)"
   ]
  },
  {
   "cell_type": "code",
   "execution_count": 3,
   "metadata": {},
   "outputs": [],
   "source": [
    "def sim_manhattan(prefs,p1,p2):\n",
    "    # Get the list of shared_items\n",
    "    si={}\n",
    "    for item in prefs[p1]:\n",
    "        if item in prefs[p2]:\n",
    "            si[item]=1\n",
    "                # if they have no ratings in common, return 0\n",
    "        if len(si)==0: return 0\n",
    "    # Add up the squares of all the differences\n",
    "    sum_of_abs_distance=sum([abs(prefs[p1][item]-prefs[p2][item])\n",
    "    for item in prefs[p1] if item in prefs[p2]])\n",
    "    return 1/(1+sum_of_abs_distance)\n"
   ]
  },
  {
   "cell_type": "code",
   "execution_count": 4,
   "metadata": {},
   "outputs": [],
   "source": [
    "def sim_cosine(prefs,p1,p2):\n",
    "    # Get the list of mutually rated items\n",
    "    si={}\n",
    "    for item in prefs[p1]:\n",
    "        if item in prefs[p2]: si[item]=1\n",
    "    # Find the number of elements\n",
    "    n=len(si)\n",
    "    # if they are no ratings in common, return 0\n",
    "    if n==0: return 0\n",
    "    # Sum up the squares\n",
    "    sum1Sq=sum([pow(prefs[p1][it],2) for it in prefs[p1]])\n",
    "    sum2Sq=sum([pow(prefs[p2][it],2) for it in prefs[p2]])\n",
    "    # Sum up the products\n",
    "    pSum=sum([prefs[p1][it]*prefs[p2][it] for it in si])\n",
    "    # Calculate cosine similarity\n",
    "    num=pSum\n",
    "    den=sqrt(sum1Sq)*sqrt(sum2Sq)\n",
    "    if pSum==0: return 0\n",
    "    r=num/den\n",
    "    return r"
   ]
  },
  {
   "cell_type": "code",
   "execution_count": 5,
   "metadata": {},
   "outputs": [],
   "source": [
    "# Returns the Pearson correlation coefficient for p1 and p2\n",
    "def sim_pearson(prefs,p1,p2):\n",
    "    # Get the list of mutually rated items\n",
    "    si={}\n",
    "    for item in prefs[p1]:\n",
    "        if item in prefs[p2]: si[item]=1\n",
    "    # Find the number of elements\n",
    "    n=len(si)\n",
    "    # if they are no ratings in common, return 0\n",
    "    if n==0: return 0\n",
    "    # Add up all the preferences\n",
    "    sum1=sum([prefs[p1][it] for it in si])\n",
    "    sum2=sum([prefs[p2][it] for it in si])\n",
    "    # Sum up the squares\n",
    "    sum1Sq=sum([pow(prefs[p1][it],2) for it in si])\n",
    "    sum2Sq=sum([pow(prefs[p2][it],2) for it in si])\n",
    "    # Sum up the products\n",
    "    pSum=sum([prefs[p1][it]*prefs[p2][it] for it in si])\n",
    "    # Calculate Pearson score\n",
    "    num=pSum-(sum1*sum2/n)\n",
    "    den=sqrt((sum1Sq-pow(sum1,2)/n)*(sum2Sq-pow(sum2,2)/n))\n",
    "    if den==0: return 0\n",
    "    r=num/den\n",
    "    return r"
   ]
  },
  {
   "cell_type": "code",
   "execution_count": 6,
   "metadata": {},
   "outputs": [],
   "source": [
    "# Returns the Pearson correlation coefficient for p1 and p2\n",
    "def sim_tanimoto(prefs,p1,p2):\n",
    "    # Get the list of mutually rated items\n",
    "    si={}\n",
    "    for item in prefs[p1]:\n",
    "        if item in prefs[p2]: si[item]=1\n",
    "    # Find the number of elements\n",
    "    n=len(si)\n",
    "    # if they are no ratings in common, return 0\n",
    "    if n==0: return 0\n",
    "    # Sum up the squares\n",
    "    sum1Sq=sum([pow(prefs[p1][it],2) for it in prefs[p1]])\n",
    "    sum2Sq=sum([pow(prefs[p2][it],2) for it in prefs[p2]])\n",
    "    # Sum up the products\n",
    "    pSum=sum([prefs[p1][it]*prefs[p2][it] for it in si])\n",
    "    # Calculate Pearson score\n",
    "    num=pSum\n",
    "    den=sum1Sq + sum2Sq - pSum\n",
    "    if den==0: return 0\n",
    "    r=num/den\n",
    "    return r"
   ]
  },
  {
   "cell_type": "code",
   "execution_count": 7,
   "metadata": {},
   "outputs": [],
   "source": [
    "# Returns the best matches for person from the prefs dictionary.\n",
    "# Number of results and similarity function are optional params.\n",
    "def topMatches(prefs,person,n=5,similarity=sim_pearson):\n",
    "    scores=[(similarity(prefs,person,other),other)\n",
    "    for other in prefs if other!=person]\n",
    "    # Sort the list so the highest scores appear at the top\n",
    "    scores.sort( )\n",
    "    scores.reverse( )\n",
    "    return scores[0:n]"
   ]
  },
  {
   "cell_type": "code",
   "execution_count": 8,
   "metadata": {},
   "outputs": [],
   "source": [
    "# Transform the preference from user based to item based & vice versa\n",
    "def transformPrefs(prefs):\n",
    "    result={}\n",
    "    for person in prefs:\n",
    "        for item in prefs[person]:\n",
    "            result.setdefault(item,{})\n",
    "            # Flip item and person\n",
    "            result[item][person]=prefs[person][item]\n",
    "    return result"
   ]
  },
  {
   "cell_type": "code",
   "execution_count": 9,
   "metadata": {},
   "outputs": [],
   "source": [
    "# Calculate similar users for a given user\n",
    "def calculateSimilarUsers(prefs,n=10):\n",
    "    # Create a dictionary of users showing which other users they\n",
    "    # are most similar to.\n",
    "    result={}\n",
    "    c=0\n",
    "    for user in prefs:\n",
    "        # Status updates for large datasets\n",
    "        c+=1\n",
    "        if c%100==0: print(\"%d / %d\" % (c,len(prefs)))\n",
    "        # Find the most similar users to this one\n",
    "        scores=topMatches(prefs,user,n=n,similarity=sim_pearson)\n",
    "        result[user]=scores\n",
    "    return result"
   ]
  },
  {
   "cell_type": "code",
   "execution_count": 10,
   "metadata": {},
   "outputs": [],
   "source": [
    "# Calculate similar items for a given item\n",
    "def calculateSimilarItems(prefs,n=10):\n",
    "    # Create a dictionary of items showing which other items they\n",
    "    # are most similar to.\n",
    "    result={}\n",
    "    # Invert the preference matrix to be item-centric\n",
    "    itemPrefs=transformPrefs(prefs)\n",
    "    c=0\n",
    "    for item in itemPrefs:\n",
    "        # Status updates for large datasets\n",
    "        c+=1\n",
    "        if c%1000==0: print(\"%d / %d\" % (c,len(itemPrefs)))\n",
    "        # Find the most similar items to this one\n",
    "        scores=topMatches(itemPrefs,item,n=n,similarity=sim_pearson)\n",
    "        result[item]=scores\n",
    "    return result"
   ]
  },
  {
   "cell_type": "code",
   "execution_count": 11,
   "metadata": {},
   "outputs": [],
   "source": [
    "def getRecommendedItems(prefs,itemMatch,user):\n",
    "    userRatings=prefs[user]\n",
    "    scores={}\n",
    "    totalSim={}\n",
    "    # Loop over items rated by this user\n",
    "    for (item,rating) in userRatings.items( ):\n",
    "        # Loop over items similar to this one\n",
    "        for (similarity,item2) in itemMatch[item]:\n",
    "            # Ignore if this user has already rated this item\n",
    "            if item2 in userRatings: continue\n",
    "            # Weighted sum of rating times similarity\n",
    "            scores.setdefault(item2,0)\n",
    "            scores[item2]+=similarity*rating\n",
    "            # Sum of all the similarities\n",
    "            totalSim.setdefault(item2,0)\n",
    "            totalSim[item2]+=similarity\n",
    "    # Divide each total score by total weighting to get an average\n",
    "    rankings=[(score/totalSim[item],item) for item,score in scores.items( )]\n",
    "    # Return the rankings from highest to lowest\n",
    "    rankings.sort( )\n",
    "    rankings.reverse( )\n",
    "    return rankings\n"
   ]
  },
  {
   "cell_type": "code",
   "execution_count": 12,
   "metadata": {},
   "outputs": [],
   "source": [
    "# Gets recommendations for a person by using a weighted average\n",
    "# of every other user's rankings\n",
    "def getRecommendations(prefs,person,similarity=sim_tanimoto):\n",
    "    totals={}\n",
    "    simSums={}\n",
    "    for other in prefs:\n",
    "        # don't compare me to myself\n",
    "        if other==person: continue\n",
    "        sim=similarity(prefs,person,other)\n",
    "        # ignore scores of zero or lower\n",
    "        if sim<=0: continue\n",
    "        for item in prefs[other]:\n",
    "            # only score movies I haven't seen yet\n",
    "            if item not in prefs[person] or prefs[person][item]==0:\n",
    "                # Similarity * Score\n",
    "                totals.setdefault(item,0)\n",
    "                totals[item]+=prefs[other][item]*sim\n",
    "                # Sum of similarities\n",
    "                simSums.setdefault(item,0)\n",
    "                simSums[item]+=sim\n",
    "    # Create the normalized list\n",
    "    rankings=[(total/simSums[item],item) for item,total in totals.items( )]\n",
    "    # Return the sorted list\n",
    "    rankings.sort( )\n",
    "    rankings.reverse( )\n",
    "    return rankings"
   ]
  },
  {
   "cell_type": "code",
   "execution_count": 13,
   "metadata": {},
   "outputs": [],
   "source": [
    "# Gets recommendations for a person by using a weighted average\n",
    "# of top 5 similar user's rankings\n",
    "def getFiveSimilarRecommendations(prefs,usersim,person,similarity=sim_pearson):\n",
    "    totals={}\n",
    "    simSums={}\n",
    "    for (score,other) in dict(usersim[person]).items():\n",
    "        for item in prefs[other]:\n",
    "            # only score movies I haven't seen yet\n",
    "            if item not in prefs[person] or prefs[person][item]==0:\n",
    "                # Similarity * Score\n",
    "                totals.setdefault(item,0)\n",
    "                totals[item]+=prefs[other][item]*score\n",
    "                # Sum of similarities\n",
    "                simSums.setdefault(item,0)\n",
    "                simSums[item]+=score\n",
    "    # Create the normalized list\n",
    "    rankings=[(total/simSums[item],item) for item,total in totals.items( )]\n",
    "    # Return the sorted list\n",
    "    rankings.sort( )\n",
    "    rankings.reverse( )\n",
    "    return rankings"
   ]
  },
  {
   "cell_type": "code",
   "execution_count": 14,
   "metadata": {},
   "outputs": [],
   "source": [
    "def loadMovieLens(path='data'):\n",
    "    # Get movie titles\n",
    "    data1=pd.read_csv(os.path.join(*[path,'movies.csv']))\n",
    "    data2=pd.read_csv(os.path.join(*[path,'ratings.csv']))\n",
    "    movie_list=data1['title'].tolist()\n",
    "    # Get movie titles\n",
    "    movies = dict(zip(data1.movieId,data1.title))\n",
    "    # Load data\n",
    "    prefs={}\n",
    "    for row in data2.itertuples():\n",
    "        prefs.setdefault(row.userId,{})\n",
    "        prefs[row.userId][movies[row.movieId]]=float(row.rating)\n",
    "    return prefs,movie_list"
   ]
  },
  {
   "cell_type": "code",
   "execution_count": 15,
   "metadata": {},
   "outputs": [],
   "source": [
    "prefs,movie_list=loadMovieLens()\n",
    "\n",
    "my_pref={'Se7en': 5.0, 'Usual Suspects': 4.0,'Zodiac': 5.0,'Shutter Island': 5.0,'Momento':5.0,'Mystic River':4.0,'Identity':5.0,'Gone Girl':4.0,}\n",
    "\n",
    "# Preprocess the user preferences\n",
    "for key in list(my_pref): \n",
    "    out = [x for x in movie_list if key in x]\n",
    "    if out:\n",
    "        my_pref[out[0]]=my_pref[key]\n",
    "    del my_pref[key]"
   ]
  },
  {
   "cell_type": "code",
   "execution_count": null,
   "metadata": {},
   "outputs": [],
   "source": [
    "# Content Based Recommendations"
   ]
  },
  {
   "cell_type": "code",
   "execution_count": 16,
   "metadata": {},
   "outputs": [
    {
     "name": "stdout",
     "output_type": "stream",
     "text": [
      "[(5.000000000000001, 'Zelary (2003)'), (5.000000000000001, 'To the Left of the Father (Lavoura Arcaica) (2001)'), (5.000000000000001, \"Taste of Cherry (Ta'm e guilass) (1997)\"), (5.000000000000001, 'Side by Side (2012)'), (5.000000000000001, 'Seventh Continent, The (Der siebente Kontinent) (1989)'), (5.000000000000001, \"Pervert's Guide to Cinema, The (2006)\"), (5.000000000000001, 'Neighbouring Sounds (O som ao redor) (2012)'), (5.000000000000001, 'Holy Motors (2012)'), (5.000000000000001, 'Hands in the Air (2010)')]\n"
     ]
    }
   ],
   "source": [
    "my_id=len(prefs)+1\n",
    "prefs[my_id]=my_pref\n",
    "\n",
    "## User User Colloborative Filtering \n",
    "# Get recommendations based on all the users\n",
    "print(getRecommendations(prefs,my_id,similarity=sim_cosine)[0:9])"
   ]
  },
  {
   "cell_type": "code",
   "execution_count": 17,
   "metadata": {},
   "outputs": [
    {
     "name": "stdout",
     "output_type": "stream",
     "text": [
      "100 / 672\n",
      "200 / 672\n",
      "300 / 672\n",
      "400 / 672\n",
      "500 / 672\n",
      "600 / 672\n",
      "[(5.0, 'Wish Upon a Star (1996)'), (5.0, 'The Imitation Game (2014)'), (5.0, 'The Hunger Games (2012)'), (5.0, 'The Fault in Our Stars (2014)'), (5.0, 'The Artist (2011)'), (5.0, \"Schindler's List (1993)\"), (5.0, 'New World, The (2005)'), (5.0, 'Myth of the American Sleepover, The (2010)'), (5.0, 'It Follows (2014)')]\n"
     ]
    }
   ],
   "source": [
    "# User User Colloborative Filtering \n",
    "# Get recommendations based on user similarity(top 5 users)\n",
    "usersim=calculateSimilarUsers(prefs,5)\n",
    "print(getFiveSimilarRecommendations(prefs,usersim,my_id,similarity=sim_cosine)[0:9])"
   ]
  },
  {
   "cell_type": "code",
   "execution_count": 18,
   "metadata": {},
   "outputs": [
    {
     "name": "stdout",
     "output_type": "stream",
     "text": [
      "1000 / 9064\n",
      "2000 / 9064\n",
      "3000 / 9064\n",
      "4000 / 9064\n",
      "5000 / 9064\n",
      "6000 / 9064\n",
      "7000 / 9064\n",
      "8000 / 9064\n",
      "9000 / 9064\n",
      "[(5.0, '[REC] (2007)'), (5.0, 'Zathura (2005)'), (5.0, 'Youth in Revolt (2009)'), (5.0, 'Yours, Mine and Ours (1968)'), (5.0, 'You Kill Me (2007)'), (5.0, 'Year of the Horse (1997)'), (5.0, 'Year One (2009)'), (5.0, 'Wrong Turn (2003)'), (5.0, 'Wrong Guy, The (1997)')]\n"
     ]
    }
   ],
   "source": [
    "# Item Item Colloborative Filtering\n",
    "# Get recommendations based on item similarity\n",
    "itemsim=calculateSimilarItems(prefs,n=50)\n",
    "print(getRecommendedItems(prefs,itemsim,my_id)[0:9])"
   ]
  }
 ],
 "metadata": {
  "accelerator": "GPU",
  "colab": {
   "collapsed_sections": [],
   "default_view": {},
   "name": "style_transfer.ipynb",
   "provenance": [],
   "version": "0.3.2",
   "views": {}
  },
  "kernelspec": {
   "display_name": "Python 3",
   "language": "python",
   "name": "python3"
  },
  "language_info": {
   "codemirror_mode": {
    "name": "ipython",
    "version": 3
   },
   "file_extension": ".py",
   "mimetype": "text/x-python",
   "name": "python",
   "nbconvert_exporter": "python",
   "pygments_lexer": "ipython3",
   "version": "3.5.2"
  }
 },
 "nbformat": 4,
 "nbformat_minor": 1
}
